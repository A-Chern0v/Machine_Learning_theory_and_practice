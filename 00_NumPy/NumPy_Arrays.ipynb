{
 "cells": [
  {
   "cell_type": "markdown",
   "id": "b5c5466e-2f9d-4395-a93d-a9d6e5b82654",
   "metadata": {},
   "source": [
    "# Массивы NumPY"
   ]
  },
  {
   "cell_type": "markdown",
   "id": "934736ba-4612-4e74-b81c-a94ffdb16b31",
   "metadata": {},
   "source": [
    "### Создание массивов"
   ]
  },
  {
   "cell_type": "code",
   "execution_count": 7,
   "id": "5f1e00ae-63cd-40b1-b873-5fa62bc472b3",
   "metadata": {},
   "outputs": [],
   "source": [
    "import numpy as np"
   ]
  },
  {
   "cell_type": "markdown",
   "id": "502c6a0b-0bf2-48c6-9ef0-e9499f9d4156",
   "metadata": {},
   "source": [
    "*__Создание одномерного массива__*"
   ]
  },
  {
   "cell_type": "code",
   "execution_count": 9,
   "id": "7b2ef3c9-7520-4f4f-8069-ee9e38f998dc",
   "metadata": {},
   "outputs": [],
   "source": [
    "my_list = [1, 2, 3]"
   ]
  },
  {
   "cell_type": "code",
   "execution_count": 11,
   "id": "421f874c-7427-4a07-91e3-c155840ba2df",
   "metadata": {},
   "outputs": [
    {
     "data": {
      "text/plain": [
       "list"
      ]
     },
     "execution_count": 11,
     "metadata": {},
     "output_type": "execute_result"
    }
   ],
   "source": [
    "type(my_list)"
   ]
  },
  {
   "cell_type": "code",
   "execution_count": 13,
   "id": "eaa963e5-8ef5-4623-a7bc-191dd837a0f5",
   "metadata": {},
   "outputs": [
    {
     "data": {
      "text/plain": [
       "array([1, 2, 3])"
      ]
     },
     "execution_count": 13,
     "metadata": {},
     "output_type": "execute_result"
    }
   ],
   "source": [
    "# Приведем список к массиву\n",
    "np.array(my_list)"
   ]
  },
  {
   "cell_type": "code",
   "execution_count": 15,
   "id": "6dd190e3-67b5-459f-95a9-d1a7fbb5705e",
   "metadata": {},
   "outputs": [
    {
     "data": {
      "text/plain": [
       "list"
      ]
     },
     "execution_count": 15,
     "metadata": {},
     "output_type": "execute_result"
    }
   ],
   "source": [
    "# Исходный список остался без изменений\n",
    "type(my_list)"
   ]
  },
  {
   "cell_type": "code",
   "execution_count": 17,
   "id": "2002cd2f-b19d-44e8-a7ad-f58e61aabe08",
   "metadata": {},
   "outputs": [],
   "source": [
    "my_arr = np.array(my_list)"
   ]
  },
  {
   "cell_type": "code",
   "execution_count": 19,
   "id": "faf757bd-5824-42fd-9559-0c095dd2863d",
   "metadata": {},
   "outputs": [
    {
     "data": {
      "text/plain": [
       "numpy.ndarray"
      ]
     },
     "execution_count": 19,
     "metadata": {},
     "output_type": "execute_result"
    }
   ],
   "source": [
    "type(my_arr)"
   ]
  },
  {
   "cell_type": "markdown",
   "id": "d767a64d-12be-4b37-a768-f6f9c0d120f6",
   "metadata": {},
   "source": [
    "*__Создание двумерного массива__*"
   ]
  },
  {
   "cell_type": "code",
   "execution_count": 23,
   "id": "50180e42-7ba9-4439-a803-bd8e22aaa7b9",
   "metadata": {},
   "outputs": [],
   "source": [
    "my_matrix = [[1, 2, 3], [4, 5, 6], [7, 8, 9]]"
   ]
  },
  {
   "cell_type": "code",
   "execution_count": 25,
   "id": "e6114573-f4f7-4c65-846e-16c237686f76",
   "metadata": {},
   "outputs": [
    {
     "data": {
      "text/plain": [
       "array([[1, 2, 3],\n",
       "       [4, 5, 6],\n",
       "       [7, 8, 9]])"
      ]
     },
     "execution_count": 25,
     "metadata": {},
     "output_type": "execute_result"
    }
   ],
   "source": [
    "np.array(my_matrix)"
   ]
  },
  {
   "cell_type": "markdown",
   "id": "f0dc9134-b0d4-4fd8-8279-4d648081041b",
   "metadata": {},
   "source": [
    "*__Создание массивов с помощью встроенных функций__*"
   ]
  },
  {
   "cell_type": "code",
   "execution_count": 28,
   "id": "f9d95956-0884-4c32-b21d-2d3cdae345dd",
   "metadata": {},
   "outputs": [
    {
     "data": {
      "text/plain": [
       "array([0, 1, 2, 3, 4, 5, 6, 7, 8, 9])"
      ]
     },
     "execution_count": 28,
     "metadata": {},
     "output_type": "execute_result"
    }
   ],
   "source": [
    "# Аналог обычной функции range (верхняя граница также не включается)\n",
    "np.arange(0, 10)"
   ]
  },
  {
   "cell_type": "code",
   "execution_count": 30,
   "id": "c16a227b-1e26-4101-982a-d9036c55e776",
   "metadata": {},
   "outputs": [
    {
     "data": {
      "text/plain": [
       "array([0, 2, 4, 6, 8])"
      ]
     },
     "execution_count": 30,
     "metadata": {},
     "output_type": "execute_result"
    }
   ],
   "source": [
    "np.arange(0, 10, 2)"
   ]
  },
  {
   "cell_type": "code",
   "execution_count": 32,
   "id": "01af5569-1f13-4047-a45b-ea833d3e7aae",
   "metadata": {},
   "outputs": [
    {
     "data": {
      "text/plain": [
       "array([  0,   2,   4,   6,   8,  10,  12,  14,  16,  18,  20,  22,  24,\n",
       "        26,  28,  30,  32,  34,  36,  38,  40,  42,  44,  46,  48,  50,\n",
       "        52,  54,  56,  58,  60,  62,  64,  66,  68,  70,  72,  74,  76,\n",
       "        78,  80,  82,  84,  86,  88,  90,  92,  94,  96,  98, 100])"
      ]
     },
     "execution_count": 32,
     "metadata": {},
     "output_type": "execute_result"
    }
   ],
   "source": [
    "# Наример получим все чётные числа до 100\n",
    "np.arange(0, 101, 2)"
   ]
  },
  {
   "cell_type": "markdown",
   "id": "02f89ed8-87d1-4617-aaea-68246dab5b33",
   "metadata": {},
   "source": [
    "*__Создание массива из 0__*"
   ]
  },
  {
   "cell_type": "code",
   "execution_count": 35,
   "id": "8df74731-84bb-406a-95b2-06f626a97170",
   "metadata": {},
   "outputs": [
    {
     "data": {
      "text/plain": [
       "array([0., 0., 0., 0., 0.])"
      ]
     },
     "execution_count": 35,
     "metadata": {},
     "output_type": "execute_result"
    }
   ],
   "source": [
    "# Нули с плавающей точкой\n",
    "# Создание одномерного массива\n",
    "np.zeros(5)"
   ]
  },
  {
   "cell_type": "code",
   "execution_count": 37,
   "id": "122030e7-cf59-4706-8ee4-c4522555364b",
   "metadata": {},
   "outputs": [
    {
     "data": {
      "text/plain": [
       "array([[0., 0., 0., 0., 0.],\n",
       "       [0., 0., 0., 0., 0.],\n",
       "       [0., 0., 0., 0., 0.],\n",
       "       [0., 0., 0., 0., 0.],\n",
       "       [0., 0., 0., 0., 0.]])"
      ]
     },
     "execution_count": 37,
     "metadata": {},
     "output_type": "execute_result"
    }
   ],
   "source": [
    "# Создание двумерного массива - передаем кортеж из 2 чисел (сторки, колонки)\n",
    "np.zeros((5, 5))"
   ]
  },
  {
   "cell_type": "code",
   "execution_count": 39,
   "id": "2f9d42c2-c5d1-4dd0-b70b-b182e3546d72",
   "metadata": {},
   "outputs": [
    {
     "data": {
      "text/plain": [
       "array([[0., 0., 0., 0., 0.],\n",
       "       [0., 0., 0., 0., 0.]])"
      ]
     },
     "execution_count": 39,
     "metadata": {},
     "output_type": "execute_result"
    }
   ],
   "source": [
    "np.zeros((2, 5))"
   ]
  },
  {
   "cell_type": "markdown",
   "id": "5399eb67-a333-4767-8efc-57ee71333831",
   "metadata": {},
   "source": [
    "*__Создание массива из 1__*"
   ]
  },
  {
   "cell_type": "code",
   "execution_count": 44,
   "id": "43b08c0c-7e8a-44ca-b5de-a11d8d916a1c",
   "metadata": {},
   "outputs": [
    {
     "data": {
      "text/plain": [
       "array([1., 1., 1., 1., 1.])"
      ]
     },
     "execution_count": 44,
     "metadata": {},
     "output_type": "execute_result"
    }
   ],
   "source": [
    "np.ones(5)"
   ]
  },
  {
   "cell_type": "code",
   "execution_count": 46,
   "id": "b8d7b6db-ac15-4630-be11-079700801d4d",
   "metadata": {},
   "outputs": [
    {
     "data": {
      "text/plain": [
       "array([[1., 1., 1., 1.],\n",
       "       [1., 1., 1., 1.],\n",
       "       [1., 1., 1., 1.],\n",
       "       [1., 1., 1., 1.]])"
      ]
     },
     "execution_count": 46,
     "metadata": {},
     "output_type": "execute_result"
    }
   ],
   "source": [
    "np.ones((4, 4))"
   ]
  },
  {
   "cell_type": "markdown",
   "id": "6bb095c9-9fa2-4a77-950f-b3fcfbd9e3fe",
   "metadata": {},
   "source": [
    "*__Функция, которая возвращает набор равноотстоящих друг от друга числе в указанном диапазоне__*"
   ]
  },
  {
   "cell_type": "code",
   "execution_count": 55,
   "id": "780651e6-2f0f-4411-91dc-fc1b886701a8",
   "metadata": {},
   "outputs": [
    {
     "data": {
      "text/plain": [
       "array([ 0.,  5., 10.])"
      ]
     },
     "execution_count": 55,
     "metadata": {},
     "output_type": "execute_result"
    }
   ],
   "source": [
    "# Передаем три параметра - начало диапазона, его конец и количество возвращаемых чисел\n",
    "# ЛЕВЫЙ ДИАПАЗОН ВКЛЮЧАЕТСЯ В СОЗДАННЫЙ МАССИВ!\n",
    "np.linspace(0, 10, 3)"
   ]
  },
  {
   "cell_type": "code",
   "execution_count": 57,
   "id": "cc4cc62b-5e8f-4cf0-87ef-586ff2efa555",
   "metadata": {},
   "outputs": [
    {
     "data": {
      "text/plain": [
       "array([ 0.,  1.,  2.,  3.,  4.,  5.,  6.,  7.,  8.,  9., 10.])"
      ]
     },
     "execution_count": 57,
     "metadata": {},
     "output_type": "execute_result"
    }
   ],
   "source": [
    "# Так как верхняя граница включается в диапазон - указываем 11\n",
    "np.linspace(0, 10, 11)"
   ]
  },
  {
   "cell_type": "code",
   "execution_count": 59,
   "id": "7e674e38-f356-4c21-a2db-5f131afdeb25",
   "metadata": {},
   "outputs": [
    {
     "data": {
      "text/plain": [
       "array([ 0.        ,  1.11111111,  2.22222222,  3.33333333,  4.44444444,\n",
       "        5.55555556,  6.66666667,  7.77777778,  8.88888889, 10.        ])"
      ]
     },
     "execution_count": 59,
     "metadata": {},
     "output_type": "execute_result"
    }
   ],
   "source": [
    "# Если запросим 10 чисел\n",
    "np.linspace(0, 10, 10)"
   ]
  },
  {
   "cell_type": "code",
   "execution_count": 61,
   "id": "6af77062-f9c9-420b-99a5-8467c3d615d1",
   "metadata": {},
   "outputs": [
    {
     "data": {
      "text/plain": [
       "array([0.  , 0.25, 0.5 , 0.75, 1.  , 1.25, 1.5 , 1.75, 2.  , 2.25, 2.5 ,\n",
       "       2.75, 3.  , 3.25, 3.5 , 3.75, 4.  , 4.25, 4.5 , 4.75, 5.  ])"
      ]
     },
     "execution_count": 61,
     "metadata": {},
     "output_type": "execute_result"
    }
   ],
   "source": [
    "np.linspace(0, 5, 21)"
   ]
  },
  {
   "cell_type": "markdown",
   "id": "7e816279-48ce-4bae-9802-e7be3fc5651d",
   "metadata": {},
   "source": [
    "*__Создание единичной матрицы в которой на главной диаганали 1, а в других ячейках 0__*"
   ]
  },
  {
   "cell_type": "code",
   "execution_count": 64,
   "id": "203c939c-9334-4226-adc6-7527bf623841",
   "metadata": {},
   "outputs": [
    {
     "data": {
      "text/plain": [
       "array([[1., 0., 0., 0., 0.],\n",
       "       [0., 1., 0., 0., 0.],\n",
       "       [0., 0., 1., 0., 0.],\n",
       "       [0., 0., 0., 1., 0.],\n",
       "       [0., 0., 0., 0., 1.]])"
      ]
     },
     "execution_count": 64,
     "metadata": {},
     "output_type": "execute_result"
    }
   ],
   "source": [
    "np.eye(5)"
   ]
  },
  {
   "cell_type": "markdown",
   "id": "077fb9c2-eec3-450c-976f-905fc2ab243d",
   "metadata": {},
   "source": [
    "### Создание случайных распределений чисел"
   ]
  },
  {
   "cell_type": "markdown",
   "id": "19f165ea-0444-41ec-b23b-b5918b99facb",
   "metadata": {},
   "source": [
    "*__Равномерное распределение__*"
   ]
  },
  {
   "cell_type": "code",
   "execution_count": 71,
   "id": "badded55-1284-4b17-8dd7-9abaa524959c",
   "metadata": {},
   "outputs": [
    {
     "data": {
      "text/plain": [
       "array([0.80192095])"
      ]
     },
     "execution_count": 71,
     "metadata": {},
     "output_type": "execute_result"
    }
   ],
   "source": [
    "# 0 включается, а 1 - нет\n",
    "# Создание одномерного массива\n",
    "np.random.rand(1)"
   ]
  },
  {
   "cell_type": "code",
   "execution_count": 73,
   "id": "35559ec8-c8da-48f0-8750-29f5715725e5",
   "metadata": {},
   "outputs": [
    {
     "data": {
      "text/plain": [
       "array([[0.03961589, 0.60268336, 0.95109076, 0.39888262, 0.33402696,\n",
       "        0.23087707],\n",
       "       [0.81625299, 0.05454722, 0.30883368, 0.01239867, 0.67711268,\n",
       "        0.1700528 ],\n",
       "       [0.17405102, 0.99771781, 0.98940016, 0.6713918 , 0.47602094,\n",
       "        0.32172326],\n",
       "       [0.17017763, 0.25631587, 0.58296166, 0.6860036 , 0.25440703,\n",
       "        0.76194201],\n",
       "       [0.13006925, 0.34181025, 0.49852294, 0.71357001, 0.89508046,\n",
       "        0.67897916]])"
      ]
     },
     "execution_count": 73,
     "metadata": {},
     "output_type": "execute_result"
    }
   ],
   "source": [
    "# Создание двумерного массива (строки, колонки)\n",
    "np.random.rand(5, 6)"
   ]
  },
  {
   "cell_type": "code",
   "execution_count": 75,
   "id": "6660f654-d7d4-46be-a569-9483485b87d6",
   "metadata": {},
   "outputs": [
    {
     "data": {
      "text/plain": [
       "array([[0.57064952, 0.42300396],\n",
       "       [0.24694605, 0.696845  ],\n",
       "       [0.55842696, 0.18512988],\n",
       "       [0.64503737, 0.52425559],\n",
       "       [0.86328772, 0.05888001]])"
      ]
     },
     "execution_count": 75,
     "metadata": {},
     "output_type": "execute_result"
    }
   ],
   "source": [
    "np.random.rand(5, 2)"
   ]
  },
  {
   "cell_type": "markdown",
   "id": "4105126e-a51b-4192-9000-1c815080e9f3",
   "metadata": {},
   "source": [
    "*__Нормальное распределение (распределение Гаусса)__*"
   ]
  },
  {
   "cell_type": "code",
   "execution_count": 81,
   "id": "09e1e3d1-4d5f-4d5e-81b1-d6fae531d539",
   "metadata": {},
   "outputs": [
    {
     "data": {
      "text/plain": [
       "array([-0.0183152 ,  1.28559891,  0.83783746,  0.79091134, -1.18370178,\n",
       "       -0.81300861, -0.01619397,  0.33377701,  0.6436002 ,  1.48130603])"
      ]
     },
     "execution_count": 81,
     "metadata": {},
     "output_type": "execute_result"
    }
   ],
   "source": [
    "# Стандартное нормальное распределение (мат.ож=0, дисп=1)\n",
    "# Чем ближе к 0 - тем больше вер-ть получить число, чем дальше от 0 - тем меньше\n",
    "np.random.randn(10)"
   ]
  },
  {
   "cell_type": "code",
   "execution_count": 83,
   "id": "2a7b1931-62d7-4691-9777-3034c1168269",
   "metadata": {},
   "outputs": [
    {
     "data": {
      "text/plain": [
       "array([[-0.09998916, -0.02032037, -0.21330898],\n",
       "       [-0.36858362, -0.16707472, -1.01803121]])"
      ]
     },
     "execution_count": 83,
     "metadata": {},
     "output_type": "execute_result"
    }
   ],
   "source": [
    "np.random.randn(2, 3)"
   ]
  },
  {
   "cell_type": "code",
   "execution_count": 85,
   "id": "880179b8-d279-48f2-b0e6-715d7d428ed5",
   "metadata": {},
   "outputs": [
    {
     "data": {
      "text/plain": [
       "array([40, 68, 77, 18, 90])"
      ]
     },
     "execution_count": 85,
     "metadata": {},
     "output_type": "execute_result"
    }
   ],
   "source": [
    "# Целые случайные числа для равномерного случ. распред.\n",
    "np.random.randint(0, 101, 5)"
   ]
  },
  {
   "cell_type": "code",
   "execution_count": 87,
   "id": "4a8841cb-0524-4179-9ade-547a22e1ea27",
   "metadata": {},
   "outputs": [
    {
     "data": {
      "text/plain": [
       "array([[47,  7, 80, 42, 26],\n",
       "       [93, 81, 18, 82, 71],\n",
       "       [99, 62, 57, 65, 10],\n",
       "       [55, 36, 41, 39, 66]])"
      ]
     },
     "execution_count": 87,
     "metadata": {},
     "output_type": "execute_result"
    }
   ],
   "source": [
    "np.random.randint(0, 101, (4, 5))"
   ]
  },
  {
   "cell_type": "markdown",
   "id": "d81dd259-f1ba-4ca9-95db-73fb90cd0d6e",
   "metadata": {},
   "source": [
    "### Как сделать результаты воспроизводимыми"
   ]
  },
  {
   "cell_type": "code",
   "execution_count": 90,
   "id": "08d0e869-e942-44ee-b62d-b9813ef0cf30",
   "metadata": {},
   "outputs": [
    {
     "data": {
      "text/plain": [
       "array([0.37454012, 0.95071431, 0.73199394, 0.59865848])"
      ]
     },
     "execution_count": 90,
     "metadata": {},
     "output_type": "execute_result"
    }
   ],
   "source": [
    "# Указываем в одной ячейке\n",
    "np.random.seed(42)\n",
    "np.random.rand(4)"
   ]
  },
  {
   "cell_type": "markdown",
   "id": "d3b60f17-db04-42f4-b172-44104aadf844",
   "metadata": {},
   "source": [
    "### Полезное"
   ]
  },
  {
   "cell_type": "code",
   "execution_count": 93,
   "id": "b7055ff5-6354-4ba4-8013-41837a22bfdc",
   "metadata": {},
   "outputs": [],
   "source": [
    "arr = np.arange(0, 25)"
   ]
  },
  {
   "cell_type": "code",
   "execution_count": 95,
   "id": "2cbc2551-13fb-4f3f-b5b0-d1e1e823b303",
   "metadata": {},
   "outputs": [
    {
     "data": {
      "text/plain": [
       "array([ 0,  1,  2,  3,  4,  5,  6,  7,  8,  9, 10, 11, 12, 13, 14, 15, 16,\n",
       "       17, 18, 19, 20, 21, 22, 23, 24])"
      ]
     },
     "execution_count": 95,
     "metadata": {},
     "output_type": "execute_result"
    }
   ],
   "source": [
    "arr"
   ]
  },
  {
   "cell_type": "markdown",
   "id": "9420f3bf-e09e-4e44-b868-3fd08daca58a",
   "metadata": {},
   "source": [
    "*__Изменение формы массива__*"
   ]
  },
  {
   "cell_type": "code",
   "execution_count": 101,
   "id": "6dd65ad1-1ddf-4e79-8374-30f00d3542fe",
   "metadata": {},
   "outputs": [
    {
     "data": {
      "text/plain": [
       "array([[ 0,  1,  2,  3,  4],\n",
       "       [ 5,  6,  7,  8,  9],\n",
       "       [10, 11, 12, 13, 14],\n",
       "       [15, 16, 17, 18, 19],\n",
       "       [20, 21, 22, 23, 24]])"
      ]
     },
     "execution_count": 101,
     "metadata": {},
     "output_type": "execute_result"
    }
   ],
   "source": [
    "# Надо указывать размер так, чтобы все поместилось\n",
    "arr.reshape(5, 5)"
   ]
  },
  {
   "cell_type": "code",
   "execution_count": 103,
   "id": "28de6103-0fec-4031-a745-423ba93d0d4c",
   "metadata": {},
   "outputs": [],
   "source": [
    "ran_array = np.random.randint(0, 101, 10)"
   ]
  },
  {
   "cell_type": "code",
   "execution_count": 105,
   "id": "eb40bb17-d088-4cc3-b5a6-e771c9413e4c",
   "metadata": {},
   "outputs": [
    {
     "data": {
      "text/plain": [
       "array([82, 86, 74, 74, 87, 99, 23,  2, 21, 52])"
      ]
     },
     "execution_count": 105,
     "metadata": {},
     "output_type": "execute_result"
    }
   ],
   "source": [
    "ran_array"
   ]
  },
  {
   "cell_type": "markdown",
   "id": "9947ec85-64b4-4020-876e-f30dd0ad1e40",
   "metadata": {},
   "source": [
    "*__Нахождение max__*"
   ]
  },
  {
   "cell_type": "code",
   "execution_count": 107,
   "id": "6fe462eb-3d94-4b8e-b972-d2c721c60b78",
   "metadata": {},
   "outputs": [
    {
     "data": {
      "text/plain": [
       "99"
      ]
     },
     "execution_count": 107,
     "metadata": {},
     "output_type": "execute_result"
    }
   ],
   "source": [
    "ran_array.max()"
   ]
  },
  {
   "cell_type": "markdown",
   "id": "30d1df42-77bf-438d-9989-6e8a4042368f",
   "metadata": {},
   "source": [
    "*__Нахождение min__*"
   ]
  },
  {
   "cell_type": "code",
   "execution_count": 111,
   "id": "8bfc3b03-1d3a-4c89-801f-e28b93ae8d1b",
   "metadata": {},
   "outputs": [
    {
     "data": {
      "text/plain": [
       "2"
      ]
     },
     "execution_count": 111,
     "metadata": {},
     "output_type": "execute_result"
    }
   ],
   "source": [
    "ran_array.min()"
   ]
  },
  {
   "cell_type": "markdown",
   "id": "fcfd7c70-e23d-4027-b0ab-8e760bfad0ff",
   "metadata": {},
   "source": [
    "*__Индекс max числа__*"
   ]
  },
  {
   "cell_type": "code",
   "execution_count": 114,
   "id": "8c35e918-b57c-48a4-bc8a-c636413ff6bf",
   "metadata": {},
   "outputs": [
    {
     "data": {
      "text/plain": [
       "5"
      ]
     },
     "execution_count": 114,
     "metadata": {},
     "output_type": "execute_result"
    }
   ],
   "source": [
    "# Нумерация индексов - с 0\n",
    "ran_array.argmax()"
   ]
  },
  {
   "cell_type": "markdown",
   "id": "91b0364e-ec1c-4c5f-8a4a-c9f87fd1da82",
   "metadata": {},
   "source": [
    "*__Индекс min числа__*"
   ]
  },
  {
   "cell_type": "code",
   "execution_count": 117,
   "id": "3689aea4-dd65-40a0-886a-170bc1d4b7a5",
   "metadata": {},
   "outputs": [
    {
     "data": {
      "text/plain": [
       "7"
      ]
     },
     "execution_count": 117,
     "metadata": {},
     "output_type": "execute_result"
    }
   ],
   "source": [
    "# Нумерация индексов - с 0\n",
    "ran_array.argmin()"
   ]
  },
  {
   "cell_type": "markdown",
   "id": "d830ee79-6d80-4f35-921f-324393b38583",
   "metadata": {},
   "source": [
    "*__Тип данных массива__*"
   ]
  },
  {
   "cell_type": "code",
   "execution_count": 122,
   "id": "2e66f021-815e-4f21-a053-d58e05ce16f3",
   "metadata": {},
   "outputs": [
    {
     "data": {
      "text/plain": [
       "dtype('int32')"
      ]
     },
     "execution_count": 122,
     "metadata": {},
     "output_type": "execute_result"
    }
   ],
   "source": [
    "# Так как не метод, а атрибут - то без ()\n",
    "ran_array.dtype"
   ]
  },
  {
   "cell_type": "markdown",
   "id": "33f4bdd6-a5f8-4a77-a204-0a48ac2b6da6",
   "metadata": {},
   "source": [
    "*__Размер(форма) массива__*"
   ]
  },
  {
   "cell_type": "code",
   "execution_count": 125,
   "id": "9d4cb93d-ca80-4842-9c3b-d99597ec108f",
   "metadata": {},
   "outputs": [
    {
     "data": {
      "text/plain": [
       "(25,)"
      ]
     },
     "execution_count": 125,
     "metadata": {},
     "output_type": "execute_result"
    }
   ],
   "source": [
    "# Так как не метод, а атрибут - то без ()\n",
    "# (25,) - так как м.б. 3 случая: одномерный массив из 25 эл-ов, двумерный массив (1 строка, 25 колонок)\n",
    "# двумерный массив (25 сторк, 1 колонка)\n",
    "arr.shape"
   ]
  },
  {
   "cell_type": "code",
   "execution_count": 127,
   "id": "507bc56b-f1c5-40f4-86da-bb31f34e9ae2",
   "metadata": {},
   "outputs": [],
   "source": [
    "arr_1 = arr.reshape(5, 5)"
   ]
  },
  {
   "cell_type": "code",
   "execution_count": 129,
   "id": "730c219b-60d9-4315-9e1e-4ca3f4a38b6a",
   "metadata": {},
   "outputs": [
    {
     "data": {
      "text/plain": [
       "(5, 5)"
      ]
     },
     "execution_count": 129,
     "metadata": {},
     "output_type": "execute_result"
    }
   ],
   "source": [
    "arr_1.shape"
   ]
  },
  {
   "cell_type": "code",
   "execution_count": null,
   "id": "2c4ff169-1a78-41ce-b9fe-e17901e697c2",
   "metadata": {},
   "outputs": [],
   "source": []
  }
 ],
 "metadata": {
  "kernelspec": {
   "display_name": "Python [conda env:base] *",
   "language": "python",
   "name": "conda-base-py"
  },
  "language_info": {
   "codemirror_mode": {
    "name": "ipython",
    "version": 3
   },
   "file_extension": ".py",
   "mimetype": "text/x-python",
   "name": "python",
   "nbconvert_exporter": "python",
   "pygments_lexer": "ipython3",
   "version": "3.12.7"
  }
 },
 "nbformat": 4,
 "nbformat_minor": 5
}
