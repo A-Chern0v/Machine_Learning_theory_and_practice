{
 "cells": [
  {
   "cell_type": "markdown",
   "id": "9197a47c-3805-4468-b5d4-93ed7903c37a",
   "metadata": {},
   "source": [
    "# Индексация массивов в NumPy"
   ]
  },
  {
   "cell_type": "code",
   "execution_count": 2,
   "id": "f957effb-8efc-4973-8d2b-7c5e4f998b41",
   "metadata": {},
   "outputs": [],
   "source": [
    "import numpy as np"
   ]
  },
  {
   "cell_type": "code",
   "execution_count": 4,
   "id": "f8e5bd20-a07b-4093-ba05-c83b4289d6ff",
   "metadata": {},
   "outputs": [],
   "source": [
    "arr = np.arange(0, 11)"
   ]
  },
  {
   "cell_type": "code",
   "execution_count": 6,
   "id": "a455b398-3c1a-4299-baea-0ac442314565",
   "metadata": {},
   "outputs": [
    {
     "data": {
      "text/plain": [
       "array([ 0,  1,  2,  3,  4,  5,  6,  7,  8,  9, 10])"
      ]
     },
     "execution_count": 6,
     "metadata": {},
     "output_type": "execute_result"
    }
   ],
   "source": [
    "arr"
   ]
  },
  {
   "cell_type": "markdown",
   "id": "673666fa-03a8-458a-a30a-79823207bfd9",
   "metadata": {},
   "source": [
    "*__Выбор одного числа__*"
   ]
  },
  {
   "cell_type": "code",
   "execution_count": 9,
   "id": "edf79c0a-ce3f-4f35-9d42-bc83f37dd31c",
   "metadata": {},
   "outputs": [
    {
     "data": {
      "text/plain": [
       "8"
      ]
     },
     "execution_count": 9,
     "metadata": {},
     "output_type": "execute_result"
    }
   ],
   "source": [
    "# Индексация начинается с 0\n",
    "arr[8]"
   ]
  },
  {
   "cell_type": "markdown",
   "id": "ac09fd1b-a484-422f-a66b-7d84160c5080",
   "metadata": {},
   "source": [
    "*__Выбор диапазона__*"
   ]
  },
  {
   "cell_type": "code",
   "execution_count": 12,
   "id": "8a823ae1-03d2-4dd1-8dd1-8e300ef18bbc",
   "metadata": {},
   "outputs": [
    {
     "data": {
      "text/plain": [
       "array([1, 2, 3, 4])"
      ]
     },
     "execution_count": 12,
     "metadata": {},
     "output_type": "execute_result"
    }
   ],
   "source": [
    "# Начальная и конечная позиция (конечная не включается)\n",
    "arr[1:5]"
   ]
  },
  {
   "cell_type": "code",
   "execution_count": 14,
   "id": "13d1e89e-045c-4ec5-8a62-98913ee6cc5f",
   "metadata": {},
   "outputs": [
    {
     "data": {
      "text/plain": [
       "array([0, 1, 2, 3, 4])"
      ]
     },
     "execution_count": 14,
     "metadata": {},
     "output_type": "execute_result"
    }
   ],
   "source": [
    "arr[:5]"
   ]
  },
  {
   "cell_type": "code",
   "execution_count": 16,
   "id": "cbd1dc4c-e459-4602-8382-8e128ce2e5f5",
   "metadata": {},
   "outputs": [
    {
     "data": {
      "text/plain": [
       "array([ 5,  6,  7,  8,  9, 10])"
      ]
     },
     "execution_count": 16,
     "metadata": {},
     "output_type": "execute_result"
    }
   ],
   "source": [
    "arr[5:]"
   ]
  },
  {
   "cell_type": "code",
   "execution_count": 18,
   "id": "05558ad5-68e1-4614-bbb9-1a3a49e3f26e",
   "metadata": {},
   "outputs": [
    {
     "data": {
      "text/plain": [
       "array([ 0,  1,  2,  3,  4,  5,  6,  7,  8,  9, 10])"
      ]
     },
     "execution_count": 18,
     "metadata": {},
     "output_type": "execute_result"
    }
   ],
   "source": [
    "arr[:]"
   ]
  },
  {
   "cell_type": "markdown",
   "id": "389b5de7-7f91-46ef-9ec4-8fc640bec6fe",
   "metadata": {},
   "source": [
    "### Опреации broadcast\n",
    "В массиве numpy можно взять новое значение и записать его сразу во множество ячеек массива, в отличие от обычных\n",
    "списков в python."
   ]
  },
  {
   "cell_type": "code",
   "execution_count": 22,
   "id": "f82c47e9-72bd-414d-8457-689a411a78b3",
   "metadata": {},
   "outputs": [],
   "source": [
    "# Для обычных списокв в python такое невозможно\n",
    "arr[0:5] = 100"
   ]
  },
  {
   "cell_type": "code",
   "execution_count": 24,
   "id": "97992bdb-4d19-426e-b396-c4c85d814fe3",
   "metadata": {},
   "outputs": [
    {
     "data": {
      "text/plain": [
       "array([100, 100, 100, 100, 100,   5,   6,   7,   8,   9,  10])"
      ]
     },
     "execution_count": 24,
     "metadata": {},
     "output_type": "execute_result"
    }
   ],
   "source": [
    "arr"
   ]
  },
  {
   "cell_type": "code",
   "execution_count": 26,
   "id": "0b546ea0-d4f1-41a8-b1a4-89780be0463e",
   "metadata": {},
   "outputs": [
    {
     "data": {
      "text/plain": [
       "array([ 0,  1,  2,  3,  4,  5,  6,  7,  8,  9, 10])"
      ]
     },
     "execution_count": 26,
     "metadata": {},
     "output_type": "execute_result"
    }
   ],
   "source": [
    "arr = np.arange(0, 11)\n",
    "arr"
   ]
  },
  {
   "cell_type": "markdown",
   "id": "474437c2-28e3-48fb-ba46-0270a58556f1",
   "metadata": {},
   "source": [
    "*__Slice для массива__*"
   ]
  },
  {
   "cell_type": "code",
   "execution_count": 28,
   "id": "e6886f2d-52fc-4ea1-9a70-ddf8b7ab606d",
   "metadata": {},
   "outputs": [
    {
     "data": {
      "text/plain": [
       "array([0, 1, 2, 3, 4])"
      ]
     },
     "execution_count": 28,
     "metadata": {},
     "output_type": "execute_result"
    }
   ],
   "source": [
    "slice_of_array = arr[0:5]\n",
    "slice_of_array"
   ]
  },
  {
   "cell_type": "code",
   "execution_count": 30,
   "id": "c29a69f3-4ade-436a-a39c-5f09f1944fd7",
   "metadata": {},
   "outputs": [
    {
     "data": {
      "text/plain": [
       "array([ 0,  1,  2,  3,  4,  5,  6,  7,  8,  9, 10])"
      ]
     },
     "execution_count": 30,
     "metadata": {},
     "output_type": "execute_result"
    }
   ],
   "source": [
    "arr"
   ]
  },
  {
   "cell_type": "code",
   "execution_count": 34,
   "id": "0bfeea63-06ef-4a0e-85fe-ef44e6740990",
   "metadata": {},
   "outputs": [
    {
     "data": {
      "text/plain": [
       "array([99, 99, 99, 99, 99])"
      ]
     },
     "execution_count": 34,
     "metadata": {},
     "output_type": "execute_result"
    }
   ],
   "source": [
    "slice_of_array[:] = 99\n",
    "slice_of_array"
   ]
  },
  {
   "cell_type": "code",
   "execution_count": 36,
   "id": "a9016e23-3ef3-4f03-90dc-655f73f727cb",
   "metadata": {},
   "outputs": [
    {
     "data": {
      "text/plain": [
       "array([99, 99, 99, 99, 99,  5,  6,  7,  8,  9, 10])"
      ]
     },
     "execution_count": 36,
     "metadata": {},
     "output_type": "execute_result"
    }
   ],
   "source": [
    "# Когда создали slice_of_array - создали не отдельные копии эл-ов, а ссылки\n",
    "# на эл-ты исходного массива.\n",
    "arr"
   ]
  },
  {
   "cell_type": "code",
   "execution_count": 40,
   "id": "e487ca08-89cc-426d-ac14-e9b3aee35700",
   "metadata": {},
   "outputs": [
    {
     "data": {
      "text/plain": [
       "array([99, 99, 99, 99, 99,  5,  6,  7,  8,  9, 10])"
      ]
     },
     "execution_count": 40,
     "metadata": {},
     "output_type": "execute_result"
    }
   ],
   "source": [
    "# Для создания полноценной копии неопходимо сделать так:\n",
    "arr_copy = arr.copy()\n",
    "arr_copy"
   ]
  },
  {
   "cell_type": "code",
   "execution_count": 44,
   "id": "bbd277f5-d426-4a20-a142-87a2f5bb0017",
   "metadata": {},
   "outputs": [
    {
     "data": {
      "text/plain": [
       "array([100, 100, 100, 100, 100, 100, 100, 100, 100, 100, 100])"
      ]
     },
     "execution_count": 44,
     "metadata": {},
     "output_type": "execute_result"
    }
   ],
   "source": [
    "# Теперь изменения будут только в копии исходного массива.\n",
    "arr_copy[:] = 100\n",
    "arr_copy"
   ]
  },
  {
   "cell_type": "code",
   "execution_count": 46,
   "id": "cd3b4230-6792-4260-ab14-5bc8651705a3",
   "metadata": {},
   "outputs": [
    {
     "data": {
      "text/plain": [
       "array([99, 99, 99, 99, 99,  5,  6,  7,  8,  9, 10])"
      ]
     },
     "execution_count": 46,
     "metadata": {},
     "output_type": "execute_result"
    }
   ],
   "source": [
    "arr"
   ]
  },
  {
   "cell_type": "markdown",
   "id": "95bd8a3c-9268-454d-ae46-a2fb1e22ec44",
   "metadata": {},
   "source": [
    "### Для двумерных массивов"
   ]
  },
  {
   "cell_type": "code",
   "execution_count": 49,
   "id": "b4ca69a8-0c0e-4369-9de2-e7413cbc3a65",
   "metadata": {},
   "outputs": [
    {
     "data": {
      "text/plain": [
       "array([[ 5, 10, 15],\n",
       "       [20, 25, 30],\n",
       "       [35, 40, 45]])"
      ]
     },
     "execution_count": 49,
     "metadata": {},
     "output_type": "execute_result"
    }
   ],
   "source": [
    "arr_2d = np.array([[5, 10, 15], [20, 25, 30], [35, 40, 45]])\n",
    "arr_2d"
   ]
  },
  {
   "cell_type": "markdown",
   "id": "0861ee12-c63d-4e16-8aa7-98e0033e7884",
   "metadata": {},
   "source": [
    "*__Индексирование__*"
   ]
  },
  {
   "cell_type": "code",
   "execution_count": 55,
   "id": "aad95ba3-226b-496c-bdff-515e2dec077b",
   "metadata": {},
   "outputs": [
    {
     "data": {
      "text/plain": [
       "(3, 3)"
      ]
     },
     "execution_count": 55,
     "metadata": {},
     "output_type": "execute_result"
    }
   ],
   "source": [
    "arr_2d.shape"
   ]
  },
  {
   "cell_type": "code",
   "execution_count": 57,
   "id": "c0a4ce5d-daee-4734-a2d4-3a7f5f08f8c2",
   "metadata": {},
   "outputs": [
    {
     "data": {
      "text/plain": [
       "array([ 5, 10, 15])"
      ]
     },
     "execution_count": 57,
     "metadata": {},
     "output_type": "execute_result"
    }
   ],
   "source": [
    "# Получение первой строки.\n",
    "arr_2d[0]"
   ]
  },
  {
   "cell_type": "code",
   "execution_count": 59,
   "id": "995a7ccf-1191-4b01-a87a-741315aaef29",
   "metadata": {},
   "outputs": [
    {
     "data": {
      "text/plain": [
       "array([35, 40, 45])"
      ]
     },
     "execution_count": 59,
     "metadata": {},
     "output_type": "execute_result"
    }
   ],
   "source": [
    "# Получение последней строки (можно 0, можно -1).\n",
    "arr_2d[-1]"
   ]
  },
  {
   "cell_type": "code",
   "execution_count": 61,
   "id": "ec1c3e3a-081c-4bd9-a782-4b18710f23e3",
   "metadata": {},
   "outputs": [
    {
     "data": {
      "text/plain": [
       "25"
      ]
     },
     "execution_count": 61,
     "metadata": {},
     "output_type": "execute_result"
    }
   ],
   "source": [
    "# Один элемент из массива - первый способ.\n",
    "arr_2d[1][1]"
   ]
  },
  {
   "cell_type": "code",
   "execution_count": 63,
   "id": "8d5932e9-91b9-49d3-a267-d91e1730cbd8",
   "metadata": {},
   "outputs": [
    {
     "data": {
      "text/plain": [
       "25"
      ]
     },
     "execution_count": 63,
     "metadata": {},
     "output_type": "execute_result"
    }
   ],
   "source": [
    "# Второй способ получения одного элемента.\n",
    "arr_2d[1, 1]"
   ]
  },
  {
   "cell_type": "code",
   "execution_count": 65,
   "id": "0ed07c47-e5c4-4976-87bf-3d593dc9704f",
   "metadata": {},
   "outputs": [
    {
     "data": {
      "text/plain": [
       "15"
      ]
     },
     "execution_count": 65,
     "metadata": {},
     "output_type": "execute_result"
    }
   ],
   "source": [
    "arr_2d[0, 2]"
   ]
  },
  {
   "cell_type": "markdown",
   "id": "962f946a-1cd7-4296-816c-4e045da1113e",
   "metadata": {},
   "source": [
    "*__Срезы__*"
   ]
  },
  {
   "cell_type": "code",
   "execution_count": 69,
   "id": "ac3691b1-9387-44b1-a4c5-fc6a969d5db4",
   "metadata": {},
   "outputs": [
    {
     "data": {
      "text/plain": [
       "array([[ 5, 10, 15],\n",
       "       [20, 25, 30]])"
      ]
     },
     "execution_count": 69,
     "metadata": {},
     "output_type": "execute_result"
    }
   ],
   "source": [
    "# Сначала строки(0 и 1 без 2).\n",
    "arr_2d[:2]"
   ]
  },
  {
   "cell_type": "code",
   "execution_count": 71,
   "id": "182475a4-ee25-43de-8aec-a339bbcc379d",
   "metadata": {},
   "outputs": [
    {
     "data": {
      "text/plain": [
       "array([[10, 15],\n",
       "       [25, 30]])"
      ]
     },
     "execution_count": 71,
     "metadata": {},
     "output_type": "execute_result"
    }
   ],
   "source": [
    "# Столбцы, начния с первого.\n",
    "arr_2d[:2, 1:]"
   ]
  },
  {
   "cell_type": "markdown",
   "id": "f7df35cf-25ae-4f85-983f-77efec06fea9",
   "metadata": {},
   "source": [
    "### Выбор по условию"
   ]
  },
  {
   "cell_type": "code",
   "execution_count": 92,
   "id": "5d166d39-e243-426a-9c16-01a759e8b207",
   "metadata": {},
   "outputs": [
    {
     "data": {
      "text/plain": [
       "array([ 1,  2,  3,  4,  5,  6,  7,  8,  9, 10])"
      ]
     },
     "execution_count": 92,
     "metadata": {},
     "output_type": "execute_result"
    }
   ],
   "source": [
    "arr_1 = np.arange(1, 11)\n",
    "arr_1"
   ]
  },
  {
   "cell_type": "code",
   "execution_count": 94,
   "id": "073e9d44-ed36-452e-87c8-427cf4ab5741",
   "metadata": {},
   "outputs": [
    {
     "data": {
      "text/plain": [
       "array([False, False, False, False,  True,  True,  True,  True,  True,\n",
       "        True])"
      ]
     },
     "execution_count": 94,
     "metadata": {},
     "output_type": "execute_result"
    }
   ],
   "source": [
    "arr_1 > 4"
   ]
  },
  {
   "cell_type": "code",
   "execution_count": 96,
   "id": "c094fc8c-ad51-45cf-baa5-1ea547554544",
   "metadata": {},
   "outputs": [],
   "source": [
    "bool_arr = arr_1 > 4"
   ]
  },
  {
   "cell_type": "code",
   "execution_count": 98,
   "id": "15fe55d8-4678-40c0-9359-dc2be2e30b83",
   "metadata": {},
   "outputs": [
    {
     "data": {
      "text/plain": [
       "array([ 5,  6,  7,  8,  9, 10])"
      ]
     },
     "execution_count": 98,
     "metadata": {},
     "output_type": "execute_result"
    }
   ],
   "source": [
    "# Выбор эл-ов больше 4 в исходном массиве.\n",
    "arr_1[bool_arr]"
   ]
  },
  {
   "cell_type": "code",
   "execution_count": 102,
   "id": "10a994b3-8d68-43f7-8212-bcced61d57c8",
   "metadata": {},
   "outputs": [
    {
     "data": {
      "text/plain": [
       "array([ 5,  6,  7,  8,  9, 10])"
      ]
     },
     "execution_count": 102,
     "metadata": {},
     "output_type": "execute_result"
    }
   ],
   "source": [
    "# Можно выполнить так:\n",
    "arr_1[arr_1>4]"
   ]
  },
  {
   "cell_type": "code",
   "execution_count": null,
   "id": "1448f861-36d1-49a0-b72f-4975f9003775",
   "metadata": {},
   "outputs": [],
   "source": []
  }
 ],
 "metadata": {
  "kernelspec": {
   "display_name": "Python [conda env:base] *",
   "language": "python",
   "name": "conda-base-py"
  },
  "language_info": {
   "codemirror_mode": {
    "name": "ipython",
    "version": 3
   },
   "file_extension": ".py",
   "mimetype": "text/x-python",
   "name": "python",
   "nbconvert_exporter": "python",
   "pygments_lexer": "ipython3",
   "version": "3.9.21"
  }
 },
 "nbformat": 4,
 "nbformat_minor": 5
}
