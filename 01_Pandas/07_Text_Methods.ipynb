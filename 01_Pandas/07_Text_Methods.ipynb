{
 "cells": [
  {
   "cell_type": "markdown",
   "id": "b4ac9375-278d-48ba-bae5-e68ccc216768",
   "metadata": {},
   "source": [
    "# Методы для работы с текстом\n",
    "Для стандартных строк Python доступно много методов для обработки текста"
   ]
  },
  {
   "cell_type": "code",
   "execution_count": 2,
   "id": "8be494e4-9b92-412f-a4d3-dc015e6450ba",
   "metadata": {},
   "outputs": [],
   "source": [
    "my_string = 'hello'"
   ]
  },
  {
   "cell_type": "code",
   "execution_count": 4,
   "id": "8a64bf2c-d151-4d32-881b-515d85935c81",
   "metadata": {},
   "outputs": [
    {
     "data": {
      "text/plain": [
       "'Hello'"
      ]
     },
     "execution_count": 4,
     "metadata": {},
     "output_type": "execute_result"
    }
   ],
   "source": [
    "my_string.capitalize()"
   ]
  },
  {
   "cell_type": "code",
   "execution_count": 6,
   "id": "545aec99-4256-40fb-9ad4-93755e82e5b3",
   "metadata": {},
   "outputs": [
    {
     "data": {
      "text/plain": [
       "False"
      ]
     },
     "execution_count": 6,
     "metadata": {},
     "output_type": "execute_result"
    }
   ],
   "source": [
    "my_string.isdigit()"
   ]
  },
  {
   "cell_type": "code",
   "execution_count": 8,
   "id": "91d0bd27-7930-4954-94c7-edc45e974b33",
   "metadata": {
    "scrolled": true
   },
   "outputs": [
    {
     "name": "stdout",
     "output_type": "stream",
     "text": [
      "Help on class str in module builtins:\n",
      "\n",
      "class str(object)\n",
      " |  str(object='') -> str\n",
      " |  str(bytes_or_buffer[, encoding[, errors]]) -> str\n",
      " |  \n",
      " |  Create a new string object from the given object. If encoding or\n",
      " |  errors is specified, then the object must expose a data buffer\n",
      " |  that will be decoded using the given encoding and error handler.\n",
      " |  Otherwise, returns the result of object.__str__() (if defined)\n",
      " |  or repr(object).\n",
      " |  encoding defaults to sys.getdefaultencoding().\n",
      " |  errors defaults to 'strict'.\n",
      " |  \n",
      " |  Methods defined here:\n",
      " |  \n",
      " |  __add__(self, value, /)\n",
      " |      Return self+value.\n",
      " |  \n",
      " |  __contains__(self, key, /)\n",
      " |      Return key in self.\n",
      " |  \n",
      " |  __eq__(self, value, /)\n",
      " |      Return self==value.\n",
      " |  \n",
      " |  __format__(self, format_spec, /)\n",
      " |      Return a formatted version of the string as described by format_spec.\n",
      " |  \n",
      " |  __ge__(self, value, /)\n",
      " |      Return self>=value.\n",
      " |  \n",
      " |  __getattribute__(self, name, /)\n",
      " |      Return getattr(self, name).\n",
      " |  \n",
      " |  __getitem__(self, key, /)\n",
      " |      Return self[key].\n",
      " |  \n",
      " |  __getnewargs__(...)\n",
      " |  \n",
      " |  __gt__(self, value, /)\n",
      " |      Return self>value.\n",
      " |  \n",
      " |  __hash__(self, /)\n",
      " |      Return hash(self).\n",
      " |  \n",
      " |  __iter__(self, /)\n",
      " |      Implement iter(self).\n",
      " |  \n",
      " |  __le__(self, value, /)\n",
      " |      Return self<=value.\n",
      " |  \n",
      " |  __len__(self, /)\n",
      " |      Return len(self).\n",
      " |  \n",
      " |  __lt__(self, value, /)\n",
      " |      Return self<value.\n",
      " |  \n",
      " |  __mod__(self, value, /)\n",
      " |      Return self%value.\n",
      " |  \n",
      " |  __mul__(self, value, /)\n",
      " |      Return self*value.\n",
      " |  \n",
      " |  __ne__(self, value, /)\n",
      " |      Return self!=value.\n",
      " |  \n",
      " |  __repr__(self, /)\n",
      " |      Return repr(self).\n",
      " |  \n",
      " |  __rmod__(self, value, /)\n",
      " |      Return value%self.\n",
      " |  \n",
      " |  __rmul__(self, value, /)\n",
      " |      Return value*self.\n",
      " |  \n",
      " |  __sizeof__(self, /)\n",
      " |      Return the size of the string in memory, in bytes.\n",
      " |  \n",
      " |  __str__(self, /)\n",
      " |      Return str(self).\n",
      " |  \n",
      " |  capitalize(self, /)\n",
      " |      Return a capitalized version of the string.\n",
      " |      \n",
      " |      More specifically, make the first character have upper case and the rest lower\n",
      " |      case.\n",
      " |  \n",
      " |  casefold(self, /)\n",
      " |      Return a version of the string suitable for caseless comparisons.\n",
      " |  \n",
      " |  center(self, width, fillchar=' ', /)\n",
      " |      Return a centered string of length width.\n",
      " |      \n",
      " |      Padding is done using the specified fill character (default is a space).\n",
      " |  \n",
      " |  count(...)\n",
      " |      S.count(sub[, start[, end]]) -> int\n",
      " |      \n",
      " |      Return the number of non-overlapping occurrences of substring sub in\n",
      " |      string S[start:end].  Optional arguments start and end are\n",
      " |      interpreted as in slice notation.\n",
      " |  \n",
      " |  encode(self, /, encoding='utf-8', errors='strict')\n",
      " |      Encode the string using the codec registered for encoding.\n",
      " |      \n",
      " |      encoding\n",
      " |        The encoding in which to encode the string.\n",
      " |      errors\n",
      " |        The error handling scheme to use for encoding errors.\n",
      " |        The default is 'strict' meaning that encoding errors raise a\n",
      " |        UnicodeEncodeError.  Other possible values are 'ignore', 'replace' and\n",
      " |        'xmlcharrefreplace' as well as any other name registered with\n",
      " |        codecs.register_error that can handle UnicodeEncodeErrors.\n",
      " |  \n",
      " |  endswith(...)\n",
      " |      S.endswith(suffix[, start[, end]]) -> bool\n",
      " |      \n",
      " |      Return True if S ends with the specified suffix, False otherwise.\n",
      " |      With optional start, test S beginning at that position.\n",
      " |      With optional end, stop comparing S at that position.\n",
      " |      suffix can also be a tuple of strings to try.\n",
      " |  \n",
      " |  expandtabs(self, /, tabsize=8)\n",
      " |      Return a copy where all tab characters are expanded using spaces.\n",
      " |      \n",
      " |      If tabsize is not given, a tab size of 8 characters is assumed.\n",
      " |  \n",
      " |  find(...)\n",
      " |      S.find(sub[, start[, end]]) -> int\n",
      " |      \n",
      " |      Return the lowest index in S where substring sub is found,\n",
      " |      such that sub is contained within S[start:end].  Optional\n",
      " |      arguments start and end are interpreted as in slice notation.\n",
      " |      \n",
      " |      Return -1 on failure.\n",
      " |  \n",
      " |  format(...)\n",
      " |      S.format(*args, **kwargs) -> str\n",
      " |      \n",
      " |      Return a formatted version of S, using substitutions from args and kwargs.\n",
      " |      The substitutions are identified by braces ('{' and '}').\n",
      " |  \n",
      " |  format_map(...)\n",
      " |      S.format_map(mapping) -> str\n",
      " |      \n",
      " |      Return a formatted version of S, using substitutions from mapping.\n",
      " |      The substitutions are identified by braces ('{' and '}').\n",
      " |  \n",
      " |  index(...)\n",
      " |      S.index(sub[, start[, end]]) -> int\n",
      " |      \n",
      " |      Return the lowest index in S where substring sub is found,\n",
      " |      such that sub is contained within S[start:end].  Optional\n",
      " |      arguments start and end are interpreted as in slice notation.\n",
      " |      \n",
      " |      Raises ValueError when the substring is not found.\n",
      " |  \n",
      " |  isalnum(self, /)\n",
      " |      Return True if the string is an alpha-numeric string, False otherwise.\n",
      " |      \n",
      " |      A string is alpha-numeric if all characters in the string are alpha-numeric and\n",
      " |      there is at least one character in the string.\n",
      " |  \n",
      " |  isalpha(self, /)\n",
      " |      Return True if the string is an alphabetic string, False otherwise.\n",
      " |      \n",
      " |      A string is alphabetic if all characters in the string are alphabetic and there\n",
      " |      is at least one character in the string.\n",
      " |  \n",
      " |  isascii(self, /)\n",
      " |      Return True if all characters in the string are ASCII, False otherwise.\n",
      " |      \n",
      " |      ASCII characters have code points in the range U+0000-U+007F.\n",
      " |      Empty string is ASCII too.\n",
      " |  \n",
      " |  isdecimal(self, /)\n",
      " |      Return True if the string is a decimal string, False otherwise.\n",
      " |      \n",
      " |      A string is a decimal string if all characters in the string are decimal and\n",
      " |      there is at least one character in the string.\n",
      " |  \n",
      " |  isdigit(self, /)\n",
      " |      Return True if the string is a digit string, False otherwise.\n",
      " |      \n",
      " |      A string is a digit string if all characters in the string are digits and there\n",
      " |      is at least one character in the string.\n",
      " |  \n",
      " |  isidentifier(self, /)\n",
      " |      Return True if the string is a valid Python identifier, False otherwise.\n",
      " |      \n",
      " |      Call keyword.iskeyword(s) to test whether string s is a reserved identifier,\n",
      " |      such as \"def\" or \"class\".\n",
      " |  \n",
      " |  islower(self, /)\n",
      " |      Return True if the string is a lowercase string, False otherwise.\n",
      " |      \n",
      " |      A string is lowercase if all cased characters in the string are lowercase and\n",
      " |      there is at least one cased character in the string.\n",
      " |  \n",
      " |  isnumeric(self, /)\n",
      " |      Return True if the string is a numeric string, False otherwise.\n",
      " |      \n",
      " |      A string is numeric if all characters in the string are numeric and there is at\n",
      " |      least one character in the string.\n",
      " |  \n",
      " |  isprintable(self, /)\n",
      " |      Return True if the string is printable, False otherwise.\n",
      " |      \n",
      " |      A string is printable if all of its characters are considered printable in\n",
      " |      repr() or if it is empty.\n",
      " |  \n",
      " |  isspace(self, /)\n",
      " |      Return True if the string is a whitespace string, False otherwise.\n",
      " |      \n",
      " |      A string is whitespace if all characters in the string are whitespace and there\n",
      " |      is at least one character in the string.\n",
      " |  \n",
      " |  istitle(self, /)\n",
      " |      Return True if the string is a title-cased string, False otherwise.\n",
      " |      \n",
      " |      In a title-cased string, upper- and title-case characters may only\n",
      " |      follow uncased characters and lowercase characters only cased ones.\n",
      " |  \n",
      " |  isupper(self, /)\n",
      " |      Return True if the string is an uppercase string, False otherwise.\n",
      " |      \n",
      " |      A string is uppercase if all cased characters in the string are uppercase and\n",
      " |      there is at least one cased character in the string.\n",
      " |  \n",
      " |  join(self, iterable, /)\n",
      " |      Concatenate any number of strings.\n",
      " |      \n",
      " |      The string whose method is called is inserted in between each given string.\n",
      " |      The result is returned as a new string.\n",
      " |      \n",
      " |      Example: '.'.join(['ab', 'pq', 'rs']) -> 'ab.pq.rs'\n",
      " |  \n",
      " |  ljust(self, width, fillchar=' ', /)\n",
      " |      Return a left-justified string of length width.\n",
      " |      \n",
      " |      Padding is done using the specified fill character (default is a space).\n",
      " |  \n",
      " |  lower(self, /)\n",
      " |      Return a copy of the string converted to lowercase.\n",
      " |  \n",
      " |  lstrip(self, chars=None, /)\n",
      " |      Return a copy of the string with leading whitespace removed.\n",
      " |      \n",
      " |      If chars is given and not None, remove characters in chars instead.\n",
      " |  \n",
      " |  partition(self, sep, /)\n",
      " |      Partition the string into three parts using the given separator.\n",
      " |      \n",
      " |      This will search for the separator in the string.  If the separator is found,\n",
      " |      returns a 3-tuple containing the part before the separator, the separator\n",
      " |      itself, and the part after it.\n",
      " |      \n",
      " |      If the separator is not found, returns a 3-tuple containing the original string\n",
      " |      and two empty strings.\n",
      " |  \n",
      " |  removeprefix(self, prefix, /)\n",
      " |      Return a str with the given prefix string removed if present.\n",
      " |      \n",
      " |      If the string starts with the prefix string, return string[len(prefix):].\n",
      " |      Otherwise, return a copy of the original string.\n",
      " |  \n",
      " |  removesuffix(self, suffix, /)\n",
      " |      Return a str with the given suffix string removed if present.\n",
      " |      \n",
      " |      If the string ends with the suffix string and that suffix is not empty,\n",
      " |      return string[:-len(suffix)]. Otherwise, return a copy of the original\n",
      " |      string.\n",
      " |  \n",
      " |  replace(self, old, new, count=-1, /)\n",
      " |      Return a copy with all occurrences of substring old replaced by new.\n",
      " |      \n",
      " |        count\n",
      " |          Maximum number of occurrences to replace.\n",
      " |          -1 (the default value) means replace all occurrences.\n",
      " |      \n",
      " |      If the optional argument count is given, only the first count occurrences are\n",
      " |      replaced.\n",
      " |  \n",
      " |  rfind(...)\n",
      " |      S.rfind(sub[, start[, end]]) -> int\n",
      " |      \n",
      " |      Return the highest index in S where substring sub is found,\n",
      " |      such that sub is contained within S[start:end].  Optional\n",
      " |      arguments start and end are interpreted as in slice notation.\n",
      " |      \n",
      " |      Return -1 on failure.\n",
      " |  \n",
      " |  rindex(...)\n",
      " |      S.rindex(sub[, start[, end]]) -> int\n",
      " |      \n",
      " |      Return the highest index in S where substring sub is found,\n",
      " |      such that sub is contained within S[start:end].  Optional\n",
      " |      arguments start and end are interpreted as in slice notation.\n",
      " |      \n",
      " |      Raises ValueError when the substring is not found.\n",
      " |  \n",
      " |  rjust(self, width, fillchar=' ', /)\n",
      " |      Return a right-justified string of length width.\n",
      " |      \n",
      " |      Padding is done using the specified fill character (default is a space).\n",
      " |  \n",
      " |  rpartition(self, sep, /)\n",
      " |      Partition the string into three parts using the given separator.\n",
      " |      \n",
      " |      This will search for the separator in the string, starting at the end. If\n",
      " |      the separator is found, returns a 3-tuple containing the part before the\n",
      " |      separator, the separator itself, and the part after it.\n",
      " |      \n",
      " |      If the separator is not found, returns a 3-tuple containing two empty strings\n",
      " |      and the original string.\n",
      " |  \n",
      " |  rsplit(self, /, sep=None, maxsplit=-1)\n",
      " |      Return a list of the words in the string, using sep as the delimiter string.\n",
      " |      \n",
      " |        sep\n",
      " |          The delimiter according which to split the string.\n",
      " |          None (the default value) means split according to any whitespace,\n",
      " |          and discard empty strings from the result.\n",
      " |        maxsplit\n",
      " |          Maximum number of splits to do.\n",
      " |          -1 (the default value) means no limit.\n",
      " |      \n",
      " |      Splits are done starting at the end of the string and working to the front.\n",
      " |  \n",
      " |  rstrip(self, chars=None, /)\n",
      " |      Return a copy of the string with trailing whitespace removed.\n",
      " |      \n",
      " |      If chars is given and not None, remove characters in chars instead.\n",
      " |  \n",
      " |  split(self, /, sep=None, maxsplit=-1)\n",
      " |      Return a list of the words in the string, using sep as the delimiter string.\n",
      " |      \n",
      " |      sep\n",
      " |        The delimiter according which to split the string.\n",
      " |        None (the default value) means split according to any whitespace,\n",
      " |        and discard empty strings from the result.\n",
      " |      maxsplit\n",
      " |        Maximum number of splits to do.\n",
      " |        -1 (the default value) means no limit.\n",
      " |  \n",
      " |  splitlines(self, /, keepends=False)\n",
      " |      Return a list of the lines in the string, breaking at line boundaries.\n",
      " |      \n",
      " |      Line breaks are not included in the resulting list unless keepends is given and\n",
      " |      true.\n",
      " |  \n",
      " |  startswith(...)\n",
      " |      S.startswith(prefix[, start[, end]]) -> bool\n",
      " |      \n",
      " |      Return True if S starts with the specified prefix, False otherwise.\n",
      " |      With optional start, test S beginning at that position.\n",
      " |      With optional end, stop comparing S at that position.\n",
      " |      prefix can also be a tuple of strings to try.\n",
      " |  \n",
      " |  strip(self, chars=None, /)\n",
      " |      Return a copy of the string with leading and trailing whitespace removed.\n",
      " |      \n",
      " |      If chars is given and not None, remove characters in chars instead.\n",
      " |  \n",
      " |  swapcase(self, /)\n",
      " |      Convert uppercase characters to lowercase and lowercase characters to uppercase.\n",
      " |  \n",
      " |  title(self, /)\n",
      " |      Return a version of the string where each word is titlecased.\n",
      " |      \n",
      " |      More specifically, words start with uppercased characters and all remaining\n",
      " |      cased characters have lower case.\n",
      " |  \n",
      " |  translate(self, table, /)\n",
      " |      Replace each character in the string using the given translation table.\n",
      " |      \n",
      " |        table\n",
      " |          Translation table, which must be a mapping of Unicode ordinals to\n",
      " |          Unicode ordinals, strings, or None.\n",
      " |      \n",
      " |      The table must implement lookup/indexing via __getitem__, for instance a\n",
      " |      dictionary or list.  If this operation raises LookupError, the character is\n",
      " |      left untouched.  Characters mapped to None are deleted.\n",
      " |  \n",
      " |  upper(self, /)\n",
      " |      Return a copy of the string converted to uppercase.\n",
      " |  \n",
      " |  zfill(self, width, /)\n",
      " |      Pad a numeric string with zeros on the left, to fill a field of the given width.\n",
      " |      \n",
      " |      The string is never truncated.\n",
      " |  \n",
      " |  ----------------------------------------------------------------------\n",
      " |  Static methods defined here:\n",
      " |  \n",
      " |  __new__(*args, **kwargs) from builtins.type\n",
      " |      Create and return a new object.  See help(type) for accurate signature.\n",
      " |  \n",
      " |  maketrans(...)\n",
      " |      Return a translation table usable for str.translate().\n",
      " |      \n",
      " |      If there is only one argument, it must be a dictionary mapping Unicode\n",
      " |      ordinals (integers) or characters to Unicode ordinals, strings or None.\n",
      " |      Character keys will be then converted to ordinals.\n",
      " |      If there are two arguments, they must be strings of equal length, and\n",
      " |      in the resulting dictionary, each character in x will be mapped to the\n",
      " |      character at the same position in y. If there is a third argument, it\n",
      " |      must be a string, whose characters will be mapped to None in the result.\n",
      "\n"
     ]
    }
   ],
   "source": [
    "help(str)"
   ]
  },
  {
   "cell_type": "markdown",
   "id": "4e4b7edf-64ee-49de-8426-e166a14986b8",
   "metadata": {},
   "source": [
    "# Pandas и работа с текстом\n",
    "Pandas может сделать с текстом намного больше Полная документация по таким методам строк как индексация и регулярные выражения:\n",
    "https://pandas.pydata.org/docs/user_guide/text.html"
   ]
  },
  {
   "cell_type": "markdown",
   "id": "89a84dee-371b-4d1e-8887-7a730d31aab7",
   "metadata": {},
   "source": [
    "## Методы Pandas для работы с текстом в строковой (текстовой) колонке"
   ]
  },
  {
   "cell_type": "code",
   "execution_count": 12,
   "id": "98a8423c-0b29-4662-ba27-881f0ff3a678",
   "metadata": {},
   "outputs": [],
   "source": [
    "import numpy as np\n",
    "import pandas as pd"
   ]
  },
  {
   "cell_type": "code",
   "execution_count": 16,
   "id": "1a7b5930-88d3-43d8-a269-e7281a829f8d",
   "metadata": {},
   "outputs": [],
   "source": [
    "email = 'first@mail.com'"
   ]
  },
  {
   "cell_type": "code",
   "execution_count": 18,
   "id": "0304f677-115c-4ecc-bbfb-77247f5e9a4b",
   "metadata": {},
   "outputs": [
    {
     "data": {
      "text/plain": [
       "['first', 'mail.com']"
      ]
     },
     "execution_count": 18,
     "metadata": {},
     "output_type": "execute_result"
    }
   ],
   "source": [
    "email.split('@')"
   ]
  },
  {
   "cell_type": "code",
   "execution_count": 20,
   "id": "50744b61-8f3e-41e0-b64c-1dbb561f6456",
   "metadata": {},
   "outputs": [
    {
     "data": {
      "text/plain": [
       "0    andrew\n",
       "1       bob\n",
       "2    claire\n",
       "3     david\n",
       "4         5\n",
       "dtype: object"
      ]
     },
     "execution_count": 20,
     "metadata": {},
     "output_type": "execute_result"
    }
   ],
   "source": [
    "names = pd.Series(['andrew', 'bob', 'claire', 'david', '5'])\n",
    "names"
   ]
  },
  {
   "cell_type": "code",
   "execution_count": 22,
   "id": "27259047-7973-4e1e-b682-3a9df65d61d8",
   "metadata": {},
   "outputs": [
    {
     "data": {
      "text/plain": [
       "0    ANDREW\n",
       "1       BOB\n",
       "2    CLAIRE\n",
       "3     DAVID\n",
       "4         5\n",
       "dtype: object"
      ]
     },
     "execution_count": 22,
     "metadata": {},
     "output_type": "execute_result"
    }
   ],
   "source": [
    "names.str.upper()"
   ]
  },
  {
   "cell_type": "code",
   "execution_count": 24,
   "id": "42790b66-40a9-4d05-8c4d-c526dc889632",
   "metadata": {},
   "outputs": [
    {
     "data": {
      "text/plain": [
       "0    andrew\n",
       "1       bob\n",
       "2    claire\n",
       "3     david\n",
       "4         5\n",
       "dtype: object"
      ]
     },
     "execution_count": 24,
     "metadata": {},
     "output_type": "execute_result"
    }
   ],
   "source": [
    "# Изменения в исходный объект не внеслись\n",
    "names"
   ]
  },
  {
   "cell_type": "code",
   "execution_count": 26,
   "id": "8e8d636d-a1b6-4784-8f9d-ae13934c936d",
   "metadata": {},
   "outputs": [
    {
     "data": {
      "text/plain": [
       "0    False\n",
       "1    False\n",
       "2    False\n",
       "3    False\n",
       "4     True\n",
       "dtype: bool"
      ]
     },
     "execution_count": 26,
     "metadata": {},
     "output_type": "execute_result"
    }
   ],
   "source": [
    "names.str.isdigit()"
   ]
  },
  {
   "cell_type": "code",
   "execution_count": 28,
   "id": "69bd5399-d66b-427e-9ba8-1c3d695dcdc9",
   "metadata": {},
   "outputs": [
    {
     "data": {
      "text/plain": [
       "0     True\n",
       "1     True\n",
       "2     True\n",
       "3     True\n",
       "4    False\n",
       "dtype: bool"
      ]
     },
     "execution_count": 28,
     "metadata": {},
     "output_type": "execute_result"
    }
   ],
   "source": [
    "names.str.isalpha()"
   ]
  },
  {
   "cell_type": "markdown",
   "id": "1f365b40-a217-4a0f-81b7-23b0f7babdb2",
   "metadata": {},
   "source": [
    "## Разбиение строки на части, извлечение отдельных частей из строки (string)"
   ]
  },
  {
   "cell_type": "code",
   "execution_count": 31,
   "id": "b132371a-14ec-41e3-97c1-b1db0d348a69",
   "metadata": {},
   "outputs": [],
   "source": [
    "# Текстовые значения разделённые запятыми, но в виде одной строки\n",
    "tech_finance = ['GOOG,APPL,AMZN', 'JPN,BAC,GS']"
   ]
  },
  {
   "cell_type": "code",
   "execution_count": 33,
   "id": "4d84b2fa-4208-4c90-9113-75e3d6e80b5a",
   "metadata": {},
   "outputs": [
    {
     "data": {
      "text/plain": [
       "2"
      ]
     },
     "execution_count": 33,
     "metadata": {},
     "output_type": "execute_result"
    }
   ],
   "source": [
    "len(tech_finance)"
   ]
  },
  {
   "cell_type": "code",
   "execution_count": 35,
   "id": "e02d4fd8-94e2-4956-a9ce-385a210b0984",
   "metadata": {},
   "outputs": [
    {
     "data": {
      "text/plain": [
       "0    GOOG,APPL,AMZN\n",
       "1        JPN,BAC,GS\n",
       "dtype: object"
      ]
     },
     "execution_count": 35,
     "metadata": {},
     "output_type": "execute_result"
    }
   ],
   "source": [
    "# Создадим объект Series\n",
    "tickers = pd.Series(tech_finance)\n",
    "tickers"
   ]
  },
  {
   "cell_type": "code",
   "execution_count": 39,
   "id": "ad9e6d4f-6d27-4a53-9ec2-1f21a8d1bd2b",
   "metadata": {},
   "outputs": [
    {
     "data": {
      "text/plain": [
       "0    [GOOG, APPL, AMZN]\n",
       "1        [JPN, BAC, GS]\n",
       "dtype: object"
      ]
     },
     "execution_count": 39,
     "metadata": {},
     "output_type": "execute_result"
    }
   ],
   "source": [
    "tickers.str.split(',')"
   ]
  },
  {
   "cell_type": "code",
   "execution_count": 41,
   "id": "e3987d25-226a-4198-b675-d4a9793d8edf",
   "metadata": {},
   "outputs": [],
   "source": [
    "tech = 'GOOG,APPL,AMZN'"
   ]
  },
  {
   "cell_type": "code",
   "execution_count": 43,
   "id": "d2a6bf03-c9d0-4c54-aa37-eae6a64a5db7",
   "metadata": {},
   "outputs": [
    {
     "data": {
      "text/plain": [
       "'GOOG'"
      ]
     },
     "execution_count": 43,
     "metadata": {},
     "output_type": "execute_result"
    }
   ],
   "source": [
    "tech.split(',')[0]"
   ]
  },
  {
   "cell_type": "code",
   "execution_count": 53,
   "id": "fa91069d-93d2-44c2-8895-6da8beec7a01",
   "metadata": {},
   "outputs": [
    {
     "data": {
      "text/plain": [
       "0    GOOG\n",
       "1     JPN\n",
       "dtype: object"
      ]
     },
     "execution_count": 53,
     "metadata": {},
     "output_type": "execute_result"
    }
   ],
   "source": [
    "# В таком случае мы получим первые элементы для каждого из списков\n",
    "tickers.str.split(',').str[0]"
   ]
  },
  {
   "cell_type": "code",
   "execution_count": 55,
   "id": "8c54081e-5764-4965-9ca2-df49c0954a3e",
   "metadata": {},
   "outputs": [
    {
     "data": {
      "text/plain": [
       "'GOOG'"
      ]
     },
     "execution_count": 55,
     "metadata": {},
     "output_type": "execute_result"
    }
   ],
   "source": [
    "tickers.str.split(',').str[0][0]"
   ]
  },
  {
   "cell_type": "code",
   "execution_count": 65,
   "id": "b76d5177-d5b4-4bc1-a9ca-734b21530761",
   "metadata": {},
   "outputs": [
    {
     "data": {
      "text/plain": [
       "'JPN'"
      ]
     },
     "execution_count": 65,
     "metadata": {},
     "output_type": "execute_result"
    }
   ],
   "source": [
    "tickers.str.split(',').str[0][1]"
   ]
  },
  {
   "cell_type": "code",
   "execution_count": 67,
   "id": "11db9d76-4468-4e61-a0de-fd78edeebb74",
   "metadata": {},
   "outputs": [
    {
     "data": {
      "text/plain": [
       "'GS'"
      ]
     },
     "execution_count": 67,
     "metadata": {},
     "output_type": "execute_result"
    }
   ],
   "source": [
    "tickers.str.split(',').str[2][1]"
   ]
  },
  {
   "cell_type": "code",
   "execution_count": 71,
   "id": "49cfc78a-3bff-4c1d-b253-8849b22b3945",
   "metadata": {},
   "outputs": [
    {
     "data": {
      "text/html": [
       "<div>\n",
       "<style scoped>\n",
       "    .dataframe tbody tr th:only-of-type {\n",
       "        vertical-align: middle;\n",
       "    }\n",
       "\n",
       "    .dataframe tbody tr th {\n",
       "        vertical-align: top;\n",
       "    }\n",
       "\n",
       "    .dataframe thead th {\n",
       "        text-align: right;\n",
       "    }\n",
       "</style>\n",
       "<table border=\"1\" class=\"dataframe\">\n",
       "  <thead>\n",
       "    <tr style=\"text-align: right;\">\n",
       "      <th></th>\n",
       "      <th>0</th>\n",
       "      <th>1</th>\n",
       "      <th>2</th>\n",
       "    </tr>\n",
       "  </thead>\n",
       "  <tbody>\n",
       "    <tr>\n",
       "      <th>0</th>\n",
       "      <td>GOOG</td>\n",
       "      <td>APPL</td>\n",
       "      <td>AMZN</td>\n",
       "    </tr>\n",
       "    <tr>\n",
       "      <th>1</th>\n",
       "      <td>JPN</td>\n",
       "      <td>BAC</td>\n",
       "      <td>GS</td>\n",
       "    </tr>\n",
       "  </tbody>\n",
       "</table>\n",
       "</div>"
      ],
      "text/plain": [
       "      0     1     2\n",
       "0  GOOG  APPL  AMZN\n",
       "1   JPN   BAC    GS"
      ]
     },
     "execution_count": 71,
     "metadata": {},
     "output_type": "execute_result"
    }
   ],
   "source": [
    "# Получим датафрейм\n",
    "tickers.str.split(',', expand=True)"
   ]
  },
  {
   "cell_type": "markdown",
   "id": "83d4a9cd-6ae4-4454-ae4e-690f294bcfd5",
   "metadata": {},
   "source": [
    "## Очистка и редактирование строк\n",
    "### Применение методов один за одним"
   ]
  },
  {
   "cell_type": "code",
   "execution_count": 78,
   "id": "b8252834-e162-44a5-bd96-3e12d6edd982",
   "metadata": {},
   "outputs": [
    {
     "data": {
      "text/plain": [
       "0       andrew \n",
       "1          bo;b\n",
       "2      claire  \n",
       "dtype: object"
      ]
     },
     "execution_count": 78,
     "metadata": {},
     "output_type": "execute_result"
    }
   ],
   "source": [
    "# Обратите внимание на \"сдвиги строк\" из-за дополнителных пробелов \n",
    "# в значениях \"andrew  \" и \"  claire  \"\n",
    "messy_names = pd.Series(['andrew ', 'bo;b', '  claire  '])\n",
    "messy_names"
   ]
  },
  {
   "cell_type": "code",
   "execution_count": 80,
   "id": "80a3a24d-7aa7-4627-a7cc-053d4c423f3f",
   "metadata": {},
   "outputs": [
    {
     "data": {
      "text/plain": [
       "'andrew '"
      ]
     },
     "execution_count": 80,
     "metadata": {},
     "output_type": "execute_result"
    }
   ],
   "source": [
    "messy_names[0]"
   ]
  },
  {
   "cell_type": "code",
   "execution_count": 88,
   "id": "481ba890-5fbf-43b1-a718-911dd40fe2bf",
   "metadata": {},
   "outputs": [
    {
     "data": {
      "text/plain": [
       "0    Andrew\n",
       "1       Bob\n",
       "2    Claire\n",
       "dtype: object"
      ]
     },
     "execution_count": 88,
     "metadata": {},
     "output_type": "execute_result"
    }
   ],
   "source": [
    "# Для начала уберём ;, затем уберём пробелы слева и справа от слов и выполним капитализацию слов\n",
    "messy_names.str.replace(';', '').str.strip().str.capitalize()"
   ]
  },
  {
   "cell_type": "markdown",
   "id": "bcc9fed3-c4ca-4551-97aa-e158dca1b756",
   "metadata": {},
   "source": [
    "## Альтернатива - использование метода apply() со своей собственной функцией"
   ]
  },
  {
   "cell_type": "code",
   "execution_count": 91,
   "id": "4c3c591c-f3b9-494c-83ef-f074669285f7",
   "metadata": {},
   "outputs": [],
   "source": [
    "def cleanup(name):\n",
    "    \"\"\"Функция для очистки и исправления записи имён\"\"\"\n",
    "    name = name.replace(';', '')\n",
    "    name = name.strip()\n",
    "    name = name.capitalize()\n",
    "    return name"
   ]
  },
  {
   "cell_type": "code",
   "execution_count": 93,
   "id": "9dffebf3-adfa-425e-aaaf-58993904a87c",
   "metadata": {},
   "outputs": [
    {
     "data": {
      "text/plain": [
       "0    Andrew\n",
       "1       Bob\n",
       "2    Claire\n",
       "dtype: object"
      ]
     },
     "execution_count": 93,
     "metadata": {},
     "output_type": "execute_result"
    }
   ],
   "source": [
    "messy_names.apply(cleanup)"
   ]
  },
  {
   "cell_type": "markdown",
   "id": "47581b14-ece9-4759-93d2-d4890f0e0105",
   "metadata": {},
   "source": [
    "## Какой вариант будет более эффективным?"
   ]
  },
  {
   "cell_type": "code",
   "execution_count": 96,
   "id": "4c4ad4dc-5c1e-49aa-b7a0-7ec75e84a282",
   "metadata": {},
   "outputs": [],
   "source": [
    "import timeit\n",
    "\n",
    "# Этот фрагмент кода запускается только один раз\n",
    "setup = '''\n",
    "import numpy as np\n",
    "import pandas as pd\n",
    "messy_names = pd.Series(['andrew ', 'bo;b', '  claire  '])\n",
    "def cleanup(name):\n",
    "    name = name.replace(';', '')\n",
    "    name = name.strip()\n",
    "    name = name.capitalize()\n",
    "    return name\n",
    "'''\n",
    "\n",
    "# Это фрагменты кода, для которых мы будем измерять время выполнения\n",
    "# (они запускаются много раз)\n",
    "stmt_pandas_str = '''\n",
    "messy_names.str.replace(';', '').str.strip().str.capitalize()\n",
    "'''\n",
    "\n",
    "stmt_pandas_apply = '''\n",
    "messy_names.apply(cleanup)\n",
    "'''\n",
    "\n",
    "stmt_pandas_vectorize = '''\n",
    "np.vectorize(cleanup)(messy_names)\n",
    "'''"
   ]
  },
  {
   "cell_type": "code",
   "execution_count": 100,
   "id": "9e9421f4-026c-459e-9cf1-33b0c93387f6",
   "metadata": {},
   "outputs": [
    {
     "data": {
      "text/plain": [
       "1.0990842999999586"
      ]
     },
     "execution_count": 100,
     "metadata": {},
     "output_type": "execute_result"
    }
   ],
   "source": [
    "timeit.timeit(setup = setup, \n",
    "                      stmt = stmt_pandas_str, \n",
    "                      number = 10000)"
   ]
  },
  {
   "cell_type": "code",
   "execution_count": 102,
   "id": "c6f2b71f-1684-4ebc-b31d-98f832c7b7b9",
   "metadata": {},
   "outputs": [
    {
     "data": {
      "text/plain": [
       "0.20814139999856707"
      ]
     },
     "execution_count": 102,
     "metadata": {},
     "output_type": "execute_result"
    }
   ],
   "source": [
    "timeit.timeit(setup = setup, \n",
    "              stmt = stmt_pandas_apply, \n",
    "              number = 10000)"
   ]
  },
  {
   "cell_type": "code",
   "execution_count": 106,
   "id": "60270a87-67da-4c75-b0c8-bd69ca8a479e",
   "metadata": {},
   "outputs": [
    {
     "data": {
      "text/plain": [
       "0.1606656000003568"
      ]
     },
     "execution_count": 106,
     "metadata": {},
     "output_type": "execute_result"
    }
   ],
   "source": [
    "timeit.timeit(setup = setup, \n",
    "             stmt = stmt_pandas_vectorize, \n",
    "             number = 10000)"
   ]
  },
  {
   "cell_type": "markdown",
   "id": "febf4753-ff5e-411c-989e-ddce28ddfa21",
   "metadata": {},
   "source": [
    "Хотя методы __.str()__ могут быть очень удобными, когда дело доходит до повышения производительности, важно помнить про __np.vectorize()__!"
   ]
  },
  {
   "cell_type": "code",
   "execution_count": null,
   "id": "7cd61355-97ae-47d0-8981-5ca7c96fd049",
   "metadata": {},
   "outputs": [],
   "source": []
  }
 ],
 "metadata": {
  "kernelspec": {
   "display_name": "Python [conda env:base] *",
   "language": "python",
   "name": "conda-base-py"
  },
  "language_info": {
   "codemirror_mode": {
    "name": "ipython",
    "version": 3
   },
   "file_extension": ".py",
   "mimetype": "text/x-python",
   "name": "python",
   "nbconvert_exporter": "python",
   "pygments_lexer": "ipython3",
   "version": "3.9.21"
  }
 },
 "nbformat": 4,
 "nbformat_minor": 5
}
